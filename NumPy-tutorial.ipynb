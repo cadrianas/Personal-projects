{
 "cells": [
  {
   "cell_type": "markdown",
   "metadata": {},
   "source": [
    "# NumPy Tutorial for Beginners in Data Science\n",
    "\n",
    "## Introduction to NumPy\n",
    "\n",
    "NumPy (Numerical Python) is a core library in the Python ecosystem for scientific computing, widely used in data science. It provides support for large, multi-dimensional arrays and matrices, along with a collection of mathematical functions to operate on these arrays efficiently. NumPy is fundamental because of its ability to handle large datasets efficiently, which is essential for tasks such as data analysis, machine learning, and numerical simulations.\n",
    "\n",
    "\n",
    "\n",
    "While both NumPy arrays and Python lists can store collections of elements, they have critical differences:\n",
    "1. Speed: NumPy arrays are implemented in C, making them much faster for operations like element-wise addition or multiplication, especially on large datasets. Python lists, on the other hand, rely on slower, high-level language loops.\n",
    "2. Memory Efficiency: Python lists store objects, which involves more overhead, while NumPy arrays store data in a contiguous block of memory, allowing for more efficient storage and retrieval.\n",
    "3. Broadcasting: One of the key features of NumPy arrays is broadcasting, which allows operations to be performed on arrays of different shapes without explicitly looping over elements. This is not possible with Python lists.\n",
    "\n",
    "Vectorization in NumPy allows for batch operations on data without the need for explicit loops. This is critical for performance because it shifts the computation to low-level, highly optimized C and Fortran code. As a result, vectorized operations can be orders of magnitude faster than traditional Python loops. For example, performing element-wise addition on large datasets with NumPy is much faster compared to using a loop with Python lists. Additionally, vectorized operations lead to more concise and readable code, reducing the risk of errors in complex data operations.\n",
    "\n",
    "Example of Vectorization vs. Python Loops:"
   ]
  },
  {
   "cell_type": "code",
   "execution_count": null,
   "metadata": {},
   "outputs": [],
   "source": [
    "import numpy as np\n",
    "import time\n",
    "\n",
    "size = 10**6\n",
    "\n",
    "# Python list example\n",
    "py_list = list(range(size))\n",
    "start = time.time()\n",
    "py_list = [x + 1 for x in py_list]\n",
    "print(f\"Python List Time: {time.time() - start:.5f} seconds\")\n",
    "\n",
    "# NumPy array example\n",
    "np_array = np.arange(size)\n",
    "start = time.time()\n",
    "np_array += 1\n",
    "print(f\"NumPy Array Time: {time.time() - start:.5f} seconds\")\n"
   ]
  },
  {
   "cell_type": "markdown",
   "metadata": {},
   "source": [
    "## Getting Started with NumPy\n",
    "\n",
    "You can install NumPy using pip: pip install numpy\n"
   ]
  },
  {
   "cell_type": "markdown",
   "metadata": {},
   "source": [
    "Once installed, import NumPy into your Python script:"
   ]
  },
  {
   "cell_type": "code",
   "execution_count": 2,
   "metadata": {},
   "outputs": [],
   "source": [
    "import numpy as np"
   ]
  },
  {
   "cell_type": "markdown",
   "metadata": {},
   "source": [
    "## Creating NumPy Arrays\n",
    "\n",
    "Convert Python lists or lists of lists into NumPy arrays:"
   ]
  },
  {
   "cell_type": "code",
   "execution_count": null,
   "metadata": {},
   "outputs": [],
   "source": [
    "\n",
    "# 1D array\n",
    "my_list = [1, 2, 3, 5]\n",
    "np_array = np.array(my_list)\n",
    "print(np_array)\n",
    "# Output: [1 2 3 5]\n",
    "\n",
    "# 2D array\n",
    "my_list_2d = [[1, 2], [3, 4]]\n",
    "np_array_2d = np.array(my_list_2d)\n",
    "print(np_array_2d)\n",
    "# Output:\n",
    "# [[1 2]\n",
    "#  [3 4]]\n"
   ]
  },
  {
   "cell_type": "markdown",
   "metadata": {},
   "source": [
    "## Build-in functions \n",
    "\n",
    "There are lots of built-in ways to generate Arrays:\n",
    "1. arange: Return evenly spaced values within a given interval."
   ]
  },
  {
   "cell_type": "code",
   "execution_count": null,
   "metadata": {},
   "outputs": [],
   "source": [
    "np.arange(0,10)\n",
    "\n",
    "np.arange(0,11,2)"
   ]
  },
  {
   "cell_type": "markdown",
   "metadata": {},
   "source": [
    "2. zeros and ones: Generate arrays of zeros or ones"
   ]
  },
  {
   "cell_type": "code",
   "execution_count": null,
   "metadata": {},
   "outputs": [],
   "source": [
    "np.zeros(5)\n",
    "\n",
    "np.zeros((4,4))\n",
    "\n",
    "np.ones(5)\n",
    "\n",
    "np.ones((4,4))"
   ]
  },
  {
   "cell_type": "markdown",
   "metadata": {},
   "source": [
    "4. linspace: Return evenly spaced numbers over a specified interval."
   ]
  },
  {
   "cell_type": "code",
   "execution_count": null,
   "metadata": {},
   "outputs": [],
   "source": [
    "np.linspace(0,10,4)\n",
    "\n",
    "np.linspace(0,10,60)"
   ]
  },
  {
   "cell_type": "markdown",
   "metadata": {},
   "source": [
    "5. eye: Creates an identity matrix"
   ]
  },
  {
   "cell_type": "code",
   "execution_count": null,
   "metadata": {},
   "outputs": [],
   "source": [
    "np.eye(5)"
   ]
  },
  {
   "cell_type": "markdown",
   "metadata": {},
   "source": [
    "6. rand: Create an array of the given shape and populate it with random samples from a uniform distribution over [0, 1]."
   ]
  },
  {
   "cell_type": "code",
   "execution_count": null,
   "metadata": {},
   "outputs": [],
   "source": [
    "np.random.rand(2)\n",
    "np.random.rand(5,5)"
   ]
  },
  {
   "cell_type": "markdown",
   "metadata": {},
   "source": [
    "7. randn: Return a sample (or samples) from the \"standard normal\" distribution. Unlike rand which is uniform"
   ]
  },
  {
   "cell_type": "code",
   "execution_count": null,
   "metadata": {},
   "outputs": [],
   "source": [
    "np.random.randn(2)"
   ]
  },
  {
   "cell_type": "markdown",
   "metadata": {},
   "source": [
    "Seeding the Random Number Generator. Note: Using the same seed will produce the same sequence of random numbers.\n",
    "\n",
    "\n"
   ]
  },
  {
   "cell_type": "code",
   "execution_count": null,
   "metadata": {},
   "outputs": [],
   "source": [
    "np.random.seed(42)\n",
    "random_numbers = np.random.rand(3)\n",
    "print(random_numbers)\n",
    "# Output: array([0.37454012, 0.95071431, 0.73199394])\n"
   ]
  },
  {
   "cell_type": "markdown",
   "metadata": {},
   "source": [
    "8. randint: Return random integers from low (inclusive) to high (exclusive)."
   ]
  },
  {
   "cell_type": "code",
   "execution_count": null,
   "metadata": {},
   "outputs": [],
   "source": [
    "np.random.randint(1,100)\n",
    "np.random.randint(1,100,10)"
   ]
  },
  {
   "cell_type": "markdown",
   "metadata": {},
   "source": [
    "9. empty(shape): This function creates an array without initializing its entries. It's useful when you're going to fill the array later, avoiding the overhead of zeroing out the array."
   ]
  },
  {
   "cell_type": "code",
   "execution_count": null,
   "metadata": {},
   "outputs": [],
   "source": [
    "arr = np.empty((3, 3))  # Creates a 3x3 array without initializing entries\n",
    "print(arr)\n"
   ]
  },
  {
   "cell_type": "markdown",
   "metadata": {},
   "source": [
    "10. full(shape, fill_value): This creates an array where all elements have the specified fill value, ideal when you need a constant matrix or array."
   ]
  },
  {
   "cell_type": "code",
   "execution_count": null,
   "metadata": {},
   "outputs": [],
   "source": [
    "arr = np.full((2, 4), 7)  # Creates a 2x4 array filled with the value 7\n",
    "print(arr)\n"
   ]
  },
  {
   "cell_type": "markdown",
   "metadata": {},
   "source": [
    "11. Data Type (dtype)"
   ]
  },
  {
   "cell_type": "code",
   "execution_count": null,
   "metadata": {},
   "outputs": [],
   "source": [
    "a = np.array([[1, 2], [3, 4]])\n",
    "print(a.dtype)\n",
    "# Output: dtype('int64') or dtype('int32') depending on the system\n"
   ]
  },
  {
   "cell_type": "markdown",
   "metadata": {},
   "source": [
    "12. Size: Total number of elements in the array."
   ]
  },
  {
   "cell_type": "code",
   "execution_count": null,
   "metadata": {},
   "outputs": [],
   "source": [
    "print(a.size)\n",
    "# Output: 4\n"
   ]
  },
  {
   "cell_type": "markdown",
   "metadata": {},
   "source": [
    "13. Number of Dimensions (ndim):"
   ]
  },
  {
   "cell_type": "code",
   "execution_count": null,
   "metadata": {},
   "outputs": [],
   "source": [
    "print(a.ndim)\n",
    "# Output: 2\n"
   ]
  },
  {
   "cell_type": "markdown",
   "metadata": {},
   "source": [
    "14. Indexing: Accessing individual elements or subsets of the array."
   ]
  },
  {
   "cell_type": "code",
   "execution_count": null,
   "metadata": {},
   "outputs": [],
   "source": [
    "a = np.array([[1, 2], [3, 4]])\n",
    "\n",
    "# Access element at row 0, column 1\n",
    "print(a[0, 1])\n",
    "# Output: 2\n"
   ]
  },
  {
   "cell_type": "markdown",
   "metadata": {},
   "source": [
    "15. Slicing: Extracting subarrays from the original array."
   ]
  },
  {
   "cell_type": "code",
   "execution_count": null,
   "metadata": {},
   "outputs": [],
   "source": [
    "# Slice rows 0 to 1 and columns 0 to 1\n",
    "print(a[0:2, 0:2])\n",
    "# Output:\n",
    "# [[1 2]\n",
    "#  [3 4]]\n"
   ]
  },
  {
   "cell_type": "markdown",
   "metadata": {},
   "source": [
    "16. Boolean Indexing"
   ]
  },
  {
   "cell_type": "code",
   "execution_count": null,
   "metadata": {},
   "outputs": [],
   "source": [
    "b = np.array([1, 2, 3, 4, 5])\n",
    "print(b[b > 2])\n",
    "# Output: array([3, 4, 5])\n"
   ]
  },
  {
   "cell_type": "markdown",
   "metadata": {},
   "source": [
    "17. Reshaping Arrays: Changing the shape of an array without changing its data.\n",
    "The total number of elements must remain unchanged during reshaping."
   ]
  },
  {
   "cell_type": "code",
   "execution_count": null,
   "metadata": {},
   "outputs": [],
   "source": [
    "e = np.arange(6).reshape((2, 3))\n",
    "print(e)\n",
    "# Output:\n",
    "# array([[0, 1, 2],\n",
    "#        [3, 4, 5]])\n"
   ]
  },
  {
   "cell_type": "markdown",
   "metadata": {},
   "source": [
    "## Mathematical Operations: Efficient Batch Processing Without Loops\n",
    "\n",
    "NumPy excels in performing operations on entire arrays without needing explicit loops. This is achieved through vectorization, where operations are applied element-wise to arrays in a single step. Some examples include:\n",
    "\n",
    "1. Element-wise operations:"
   ]
  },
  {
   "cell_type": "code",
   "execution_count": null,
   "metadata": {},
   "outputs": [],
   "source": [
    "a = np.array([1, 2, 3])\n",
    "b = np.array([4, 5, 6])\n",
    "c = a + b  # Adds corresponding elements of a and b\n",
    "print(c)\n",
    "\n",
    "print(c * 2)  # Scalar multiplication"
   ]
  },
  {
   "cell_type": "markdown",
   "metadata": {},
   "source": [
    "2. Matrix multiplication:"
   ]
  },
  {
   "cell_type": "code",
   "execution_count": null,
   "metadata": {},
   "outputs": [],
   "source": [
    "mat1 = np.array([[1, 2], [3, 4]])\n",
    "mat2 = np.array([[5, 6], [7, 8]])\n",
    "result = np.dot(mat1, mat2)  # Performs matrix multiplication\n",
    "print(result)\n"
   ]
  },
  {
   "cell_type": "markdown",
   "metadata": {},
   "source": [
    "3. Batch operations (no loops needed):"
   ]
  },
  {
   "cell_type": "code",
   "execution_count": null,
   "metadata": {},
   "outputs": [],
   "source": [
    "arr = np.arange(1000000)\n",
    "arr = arr * 3  # Multiply all elements by 3 in one go\n"
   ]
  },
  {
   "cell_type": "markdown",
   "metadata": {},
   "source": [
    "4. Statistical Functions: Compute statistical measures directly on arrays."
   ]
  },
  {
   "cell_type": "code",
   "execution_count": null,
   "metadata": {},
   "outputs": [],
   "source": [
    "print(np.mean(c))    # Mean\n",
    "# Output: 2.0\n",
    "\n",
    "print(np.median(c))  # Median\n",
    "# Output: 2.0\n",
    "\n",
    "print(np.std(c))     # Standard deviation\n",
    "# Output: 0.816496580927726\n"
   ]
  },
  {
   "cell_type": "markdown",
   "metadata": {},
   "source": [
    "5. Linear Algebra Operations"
   ]
  },
  {
   "cell_type": "code",
   "execution_count": null,
   "metadata": {},
   "outputs": [],
   "source": [
    "h = np.array([[1, 2], [3, 4]])\n",
    "\n",
    "print(np.linalg.inv(h))  # Inverse of matrix\n",
    "# Output:\n",
    "# array([[-2. ,  1. ],\n",
    "#        [ 1.5, -0.5]])\n",
    "\n",
    "print(np.linalg.eig(h))  # Eigenvalues and eigenvectors\n",
    "# Output: (array([-0.37228132,  5.37228132]),\n",
    "#          array([[-0.82456484, -0.41597356],\n",
    "#                 [ 0.56576746, -0.90937671]]))\n"
   ]
  },
  {
   "cell_type": "markdown",
   "metadata": {},
   "source": [
    "## Broadcasting\n",
    "\n",
    "Broadcasting is a powerful mechanism that allows NumPy to perform operations on arrays of different shapes in a flexible manner without explicitly replicating data.\n",
    "\n",
    "* Align Dimensions: If the arrays have different numbers of dimensions, prepend ones to the shape of the smaller array until both shapes have the same length.\n",
    "* Compatible Dimensions: For each dimension, the sizes must either be equal or one of them must be 1. If a dimension does not meet these criteria, broadcasting cannot be performed."
   ]
  },
  {
   "cell_type": "code",
   "execution_count": null,
   "metadata": {},
   "outputs": [],
   "source": [
    "i = np.array([1, 2, 3])\n",
    "j = np.array([[10], [20], [30]])\n",
    "\n",
    "print(i + j)\n",
    "# Output:\n",
    "# array([[11, 12, 13],\n",
    "#        [21, 22, 23],\n",
    "#        [31, 32, 33]])\n"
   ]
  },
  {
   "cell_type": "markdown",
   "metadata": {},
   "source": [
    "Explanation: Here, i has shape (3,) and j has shape (3, 1). NumPy broadcasts i across the columns of j to perform element-wise additio"
   ]
  },
  {
   "cell_type": "markdown",
   "metadata": {},
   "source": [
    "## Array Manipulation\n",
    "\n",
    "1. Concatenation: Combine multiple arrays into one."
   ]
  },
  {
   "cell_type": "code",
   "execution_count": null,
   "metadata": {},
   "outputs": [],
   "source": [
    "a = np.array([[1, 2], [3, 4]])\n",
    "b = np.array([[5, 6]])\n",
    "\n",
    "# Concatenate along rows (axis=0)\n",
    "k = np.concatenate([a, b], axis=0)\n",
    "print(k)\n",
    "# Output:\n",
    "# array([[1, 2],\n",
    "#        [3, 4],\n",
    "#        [5, 6]])\n"
   ]
  },
  {
   "cell_type": "markdown",
   "metadata": {},
   "source": [
    "2. Splitting: Divide an array into multiple sub-arrays."
   ]
  },
  {
   "cell_type": "code",
   "execution_count": null,
   "metadata": {},
   "outputs": [],
   "source": [
    "l = np.split(k, 3, axis=0)\n",
    "print(l)\n",
    "# Output:\n",
    "# [array([[1, 2]]), array([[3, 4]]), array([[5, 6]])]\n"
   ]
  },
  {
   "cell_type": "markdown",
   "metadata": {},
   "source": [
    "3. Vertical Stacking (vstack):"
   ]
  },
  {
   "cell_type": "code",
   "execution_count": null,
   "metadata": {},
   "outputs": [],
   "source": [
    "m = np.vstack([a, b])\n",
    "print(m)\n",
    "# Output:\n",
    "# array([[1, 2],\n",
    "#        [3, 4],\n",
    "#        [5, 6]])\n"
   ]
  },
  {
   "cell_type": "markdown",
   "metadata": {},
   "source": [
    "4. Horizontal Stacking (hstack):"
   ]
  },
  {
   "cell_type": "code",
   "execution_count": null,
   "metadata": {},
   "outputs": [],
   "source": [
    "n = np.hstack([a, b])\n",
    "print(n)\n",
    "# Output:\n",
    "# array([[1, 2, 5, 6],\n",
    "#        [3, 4, 5, 6]])\n"
   ]
  },
  {
   "cell_type": "markdown",
   "metadata": {},
   "source": [
    "5. Transposing Arrays"
   ]
  },
  {
   "cell_type": "code",
   "execution_count": null,
   "metadata": {},
   "outputs": [],
   "source": [
    "print(a.T)\n",
    "# Output:\n",
    "# array([[1, 3],\n",
    "#        [2, 4]])\n"
   ]
  },
  {
   "cell_type": "markdown",
   "metadata": {},
   "source": [
    "## Saving and Loading Arrays\n",
    "1. Saving Arrays (save):"
   ]
  },
  {
   "cell_type": "code",
   "execution_count": null,
   "metadata": {},
   "outputs": [],
   "source": [
    "np.save('array.npy', a)"
   ]
  },
  {
   "cell_type": "markdown",
   "metadata": {},
   "source": [
    "2. Loading Arrays (load):"
   ]
  },
  {
   "cell_type": "code",
   "execution_count": null,
   "metadata": {},
   "outputs": [],
   "source": [
    "loaded_array = np.load('array.npy')\n",
    "print(loaded_array)"
   ]
  },
  {
   "cell_type": "markdown",
   "metadata": {},
   "source": [
    "## Reading and Writing Text Files\n",
    "1. Saving to Text File (savetxt):\n"
   ]
  },
  {
   "cell_type": "code",
   "execution_count": null,
   "metadata": {},
   "outputs": [],
   "source": [
    "np.savetxt('array.txt', a, fmt='%d', delimiter=',')\n"
   ]
  },
  {
   "cell_type": "markdown",
   "metadata": {},
   "source": [
    "2. Loading from Text File (loadtxt):"
   ]
  },
  {
   "cell_type": "code",
   "execution_count": null,
   "metadata": {},
   "outputs": [],
   "source": [
    "loaded_text_array = np.loadtxt('array.txt', delimiter=',')\n",
    "print(loaded_text_array)\n",
    "# Output:\n",
    "# [[1. 2.]\n",
    "#  [3. 4.]]\n"
   ]
  },
  {
   "cell_type": "markdown",
   "metadata": {},
   "source": [
    "NumPy is an indispensable tool for data scientists and anyone involved in numerical computations with Python. Its efficient handling of large datasets, comprehensive mathematical functions, and seamless integration with other libraries like pandas and scikit-learn make it a cornerstone of the data science ecosystem."
   ]
  }
 ],
 "metadata": {
  "kernelspec": {
   "display_name": "Python 3",
   "language": "python",
   "name": "python3"
  },
  "language_info": {
   "codemirror_mode": {
    "name": "ipython",
    "version": 3
   },
   "file_extension": ".py",
   "mimetype": "text/x-python",
   "name": "python",
   "nbconvert_exporter": "python",
   "pygments_lexer": "ipython3",
   "version": "3.11.6"
  }
 },
 "nbformat": 4,
 "nbformat_minor": 2
}
